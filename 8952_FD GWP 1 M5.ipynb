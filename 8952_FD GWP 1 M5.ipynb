{
 "cells": [
  {
   "cell_type": "markdown",
   "id": "54cc3184-eb7d-40b8-8aff-30a63700e0c5",
   "metadata": {},
   "source": [
    "# GROUP WORK PROJECT #1  \n",
    "## MScFE 600: Financial Data  \n",
    "**Group Number:** 8952  \n",
    "\n",
    "---\n",
    "\n",
    "### Contributors\n",
    "\n",
    "| FULL LEGAL NAME                    | LOCATION (COUNTRY) | EMAIL ADDRESS                  |\n",
    "|------------------------------------|--------------------|--------------------------------|\n",
    "| Desire Bikorimana                 | Rwanda             | bikorimanadesire@yahoo.com     |\n",
    "| Cherukumilli Satya Sri Hari Charan| India              | haricharan.nitt@gmail.com      |\n",
    "| Bismark Mawuenyega Agbemafle      | Ghana              | agbemaflebismark@gmail.com     |\n",
    "\n",
    "---"
   ]
  },
  {
   "cell_type": "code",
   "execution_count": null,
   "id": "a8fc51fc-b519-4c0a-9e5d-18a96607ddc1",
   "metadata": {},
   "outputs": [],
   "source": []
  }
 ],
 "metadata": {
  "kernelspec": {
   "display_name": "Python 3 (ipykernel)",
   "language": "python",
   "name": "python3"
  },
  "language_info": {
   "codemirror_mode": {
    "name": "ipython",
    "version": 3
   },
   "file_extension": ".py",
   "mimetype": "text/x-python",
   "name": "python",
   "nbconvert_exporter": "python",
   "pygments_lexer": "ipython3",
   "version": "3.13.2"
  }
 },
 "nbformat": 4,
 "nbformat_minor": 5
}
