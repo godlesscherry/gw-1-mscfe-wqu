{
 "cells": [
  {
   "cell_type": "markdown",
   "id": "54cc3184-eb7d-40b8-8aff-30a63700e0c5",
   "metadata": {},
   "source": [
    "# GROUP WORK PROJECT #1  \n",
    "## MScFE 600: Financial Data  \n",
    "**Group Number:** 8952  \n",
    "\n",
    "---\n",
    "\n",
    "### Contributors\n",
    "\n",
    "| FULL LEGAL NAME                    | LOCATION (COUNTRY) | EMAIL ADDRESS                  |\n",
    "|------------------------------------|--------------------|--------------------------------|\n",
    "| Desire Bikorimana                 | Rwanda             | bikorimanadesire@yahoo.com     |\n",
    "| Cherukumilli Satya Sri Hari Charan| India              | haricharan.nitt@gmail.com      |\n",
    "| Bismark Mawuenyega Agbemafle      | Ghana              | agbemaflebismark@gmail.com     |\n",
    "\n",
    "---"
   ]
  },
  {
   "cell_type": "markdown",
   "id": "ff7cd05d",
   "metadata": {},
   "source": [
    "## Task 1: Data Quality\n",
    "\n",
    "### a. Example of Poor Quality Structured Data\n",
    "\n",
    "Poor quality structured data can take many forms. Consider a **CSV file of loan records** where interest rates are inconsistently formatted—some listed as decimals (e.g., `0.5`) and others as percentages (e.g., `5%`). Additionally, critical columns like `Loan_received_date` and `amount_received` may have missing or improperly formatted values. Similarly, a **sales database** may contain entries with invalid dates (e.g., `\"2023-02-30\"`), missing customer IDs, and duplicate transaction records (Kimball & Caserta, 2004).\n",
    "\n",
    "### b. Recognizing Poor Quality in Structured Data\n",
    "\n",
    "Data quality issues in such structured datasets can be identified using the following criteria:\n",
    "\n",
    "1. **Validity**: Values like `\"2023-02-30\"` are invalid since February has only 28 or 29 days (ISO 8000, 2023).\n",
    "2. **Completeness**: Missing key fields like customer IDs or loan amounts hinder analysis.\n",
    "3. **Consistency**: Mixing formats (fractions vs percentages) and duplicate records distort analytics and financial metrics.\n",
    "4. **Metadata Alignment**: Numeric fields may contain non-numeric values, violating expected data types (Consoli et al.).\n",
    "\n",
    "### c. Example of Poor Quality Unstructured Data\n",
    "\n",
    "An example of poor quality unstructured data is a **collection of financial news articles** scraped from various websites. These may be cluttered with HTML tags, navigation links, inconsistent formatting, typos, and even irrelevant advertisements. Alternatively, a **corpus of customer feedback emails** may include slang, spelling errors, and incomplete sentences (Batini et al., 2009).\n",
    "\n",
    "### d. Challenges in Assessing Unstructured Data\n",
    "\n",
    "Unstructured data often lacks key quality attributes:\n",
    "\n",
    "1. **Standardization**: Free-form text varies in format, making automated analysis challenging (IBM, 2021).\n",
    "2. **Accuracy**: Typos, slang (e.g., `\"It's gr8!\"`), and formatting issues lead to misinterpretation.\n",
    "3. **Relevance**: HTML artifacts and unrelated content introduce noise and dilute actionable insights.\n",
    "4. **Structure**: Lack of clear delimiters between useful and irrelevant content hampers natural language processing tasks (Consoli et al.).\n",
    "\n",
    "---"
   ]
  }
 ],
 "metadata": {
  "kernelspec": {
   "display_name": "Python 3",
   "language": "python",
   "name": "python3"
  },
  "language_info": {
   "codemirror_mode": {
    "name": "ipython",
    "version": 3
   },
   "file_extension": ".py",
   "mimetype": "text/x-python",
   "name": "python",
   "nbconvert_exporter": "python",
   "pygments_lexer": "ipython3",
   "version": "3.13.2"
  }
 },
 "nbformat": 4,
 "nbformat_minor": 5
}
